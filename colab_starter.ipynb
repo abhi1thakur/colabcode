{
  "nbformat": 4,
  "nbformat_minor": 0,
  "metadata": {
    "colab": {
      "name": "colab_starter.ipynb",
      "provenance": []
    },
    "kernelspec": {
      "name": "python3",
      "display_name": "Python 3"
    }
  },
  "cells": [
    {
      "cell_type": "code",
      "metadata": {
        "id": "DXPMB4syxTCF",
        "colab_type": "code",
        "colab": {
          "base_uri": "https://localhost:8080/",
          "height": 228
        },
        "outputId": "85c808a0-765c-4ea0-e85b-b472ba468c0d"
      },
      "source": [
        "!pip install colabcode"
      ],
      "execution_count": 1,
      "outputs": [
        {
          "output_type": "stream",
          "text": [
            "Collecting colabcode\n",
            "  Downloading https://files.pythonhosted.org/packages/54/56/5bfba7a31a5531c08d80a5e4af97fd3c5fe775d09b210c4583d073e28ec9/colabcode-0.0.4-py3-none-any.whl\n",
            "Collecting pyngrok>=4.1.11\n",
            "  Downloading https://files.pythonhosted.org/packages/91/46/8cf45192af2005f552724ac217337baa42ee1383a6b38f03ce2a597c56e3/pyngrok-4.1.11.tar.gz\n",
            "Requirement already satisfied: future in /usr/local/lib/python3.6/dist-packages (from pyngrok>=4.1.11->colabcode) (0.16.0)\n",
            "Requirement already satisfied: PyYAML in /usr/local/lib/python3.6/dist-packages (from pyngrok>=4.1.11->colabcode) (3.13)\n",
            "Building wheels for collected packages: pyngrok\n",
            "  Building wheel for pyngrok (setup.py) ... \u001b[?25l\u001b[?25hdone\n",
            "  Created wheel for pyngrok: filename=pyngrok-4.1.11-cp36-none-any.whl size=16680 sha256=2c7957b8659b40ae2a4383626de521d1b2709b80976b1087da85b6eba24867eb\n",
            "  Stored in directory: /root/.cache/pip/wheels/b9/d8/ae/5a29960e0fddbd2bf852bfa93d841dd8b1aa23851e81687f85\n",
            "Successfully built pyngrok\n",
            "Installing collected packages: pyngrok, colabcode\n",
            "Successfully installed colabcode-0.0.4 pyngrok-4.1.11\n"
          ],
          "name": "stdout"
        }
      ]
    },
    {
      "cell_type": "code",
      "metadata": {
        "id": "jPNTUYTDxbkC",
        "colab_type": "code",
        "colab": {}
      },
      "source": [
        "from colabcode import ColabCode"
      ],
      "execution_count": 5,
      "outputs": []
    },
    {
      "cell_type": "code",
      "metadata": {
        "id": "M6bGiCAGxilQ",
        "colab_type": "code",
        "colab": {
          "base_uri": "https://localhost:8080/",
          "height": 147
        },
        "outputId": "575e8899-c6c0-4754-9e86-3b9be55261f9"
      },
      "source": [
        "ColabCode(port=10000, password=\"abhishek\")"
      ],
      "execution_count": null,
      "outputs": [
        {
          "output_type": "stream",
          "text": [
            "Code Server can be accessed on: http://e6d293247616.ngrok.io\n",
            "[2020-09-09T17:47:05.275Z] info  Using config file ~/.config/code-server/config.yaml\n",
            "[2020-09-09T17:47:05.512Z] info  Using user-data-dir ~/.local/share/code-server\n",
            "[2020-09-09T17:47:05.518Z] info  code-server 3.5.0 de41646fc402b968ca6d555fdf2da7de9554d28a\n",
            "[2020-09-09T17:47:05.522Z] info  HTTP server listening on http://127.0.0.1:10000\n",
            "[2020-09-09T17:47:05.522Z] info      - Using password from $PASSWORD\n",
            "[2020-09-09T17:47:05.522Z] info      - To disable use `--auth none`\n",
            "[2020-09-09T17:47:05.522Z] info    - Not serving HTTPS\n"
          ],
          "name": "stdout"
        }
      ]
    },
    {
      "cell_type": "code",
      "metadata": {
        "id": "txznnS0b-kqQ",
        "colab_type": "code",
        "colab": {}
      },
      "source": [
        ""
      ],
      "execution_count": null,
      "outputs": []
    }
  ]
}